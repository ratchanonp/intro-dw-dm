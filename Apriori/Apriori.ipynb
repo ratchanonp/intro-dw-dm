{
 "cells": [
  {
   "cell_type": "code",
   "execution_count": 12,
   "metadata": {},
   "outputs": [],
   "source": [
    "import pandas as pd\n",
    "from itertools import combinations"
   ]
  },
  {
   "cell_type": "code",
   "execution_count": 1,
   "metadata": {},
   "outputs": [],
   "source": [
    "items = [\n",
    "    \"Hot Dogs\",\n",
    "    \"Buns\",\n",
    "    \"Ketchup\",\n",
    "    \"Chips\",\n",
    "    \"Coke\",\n",
    "]"
   ]
  },
  {
   "cell_type": "code",
   "execution_count": 2,
   "metadata": {},
   "outputs": [],
   "source": [
    "transactions = [\n",
    "    [\"Hot Dogs\", \"Buns\", \"Ketchup\"],\n",
    "    [\"Hot Dogs\", \"Buns\"],\n",
    "    [\"Hot Dogs\", \"Coke\", \"Chips\"],\n",
    "    [\"Chips\", \"Coke\"],\n",
    "    [\"Chips\", \"Ketchup\"],\n",
    "    [\"Hot Dogs\", \"Coke\", \"Chips\"]\n",
    "]"
   ]
  },
  {
   "cell_type": "code",
   "execution_count": 3,
   "metadata": {},
   "outputs": [],
   "source": [
    "support_threshold = 0.33\n",
    "confidence_threshold = 0.6"
   ]
  },
  {
   "cell_type": "code",
   "execution_count": 6,
   "metadata": {},
   "outputs": [
    {
     "data": {
      "text/html": [
       "<div>\n",
       "<style scoped>\n",
       "    .dataframe tbody tr th:only-of-type {\n",
       "        vertical-align: middle;\n",
       "    }\n",
       "\n",
       "    .dataframe tbody tr th {\n",
       "        vertical-align: top;\n",
       "    }\n",
       "\n",
       "    .dataframe thead th {\n",
       "        text-align: right;\n",
       "    }\n",
       "</style>\n",
       "<table border=\"1\" class=\"dataframe\">\n",
       "  <thead>\n",
       "    <tr style=\"text-align: right;\">\n",
       "      <th></th>\n",
       "      <th>Itemset</th>\n",
       "      <th>Support</th>\n",
       "    </tr>\n",
       "  </thead>\n",
       "  <tbody>\n",
       "    <tr>\n",
       "      <th>0</th>\n",
       "      <td>Hot Dogs</td>\n",
       "      <td>4</td>\n",
       "    </tr>\n",
       "    <tr>\n",
       "      <th>1</th>\n",
       "      <td>Buns</td>\n",
       "      <td>2</td>\n",
       "    </tr>\n",
       "    <tr>\n",
       "      <th>2</th>\n",
       "      <td>Ketchup</td>\n",
       "      <td>2</td>\n",
       "    </tr>\n",
       "    <tr>\n",
       "      <th>3</th>\n",
       "      <td>Coke</td>\n",
       "      <td>3</td>\n",
       "    </tr>\n",
       "    <tr>\n",
       "      <th>4</th>\n",
       "      <td>Chips</td>\n",
       "      <td>4</td>\n",
       "    </tr>\n",
       "  </tbody>\n",
       "</table>\n",
       "</div>"
      ],
      "text/plain": [
       "    Itemset  Support\n",
       "0  Hot Dogs        4\n",
       "1      Buns        2\n",
       "2   Ketchup        2\n",
       "3      Coke        3\n",
       "4     Chips        4"
      ]
     },
     "execution_count": 6,
     "metadata": {},
     "output_type": "execute_result"
    }
   ],
   "source": [
    "# Apriori\n",
    "\n",
    "C1 = {}\n",
    "\n",
    "for transaction in transactions:\n",
    "    for item in transaction:\n",
    "        if item in C1:\n",
    "            C1[item] += 1\n",
    "        else:\n",
    "            C1[item] = 1\n",
    "\n",
    "L1 = {}\n",
    "\n",
    "for item in C1:\n",
    "    if C1[item] >= support_threshold * len(transactions):\n",
    "        L1[item] = C1[item]\n",
    "\n",
    "df = pd.DataFrame(columns=[\"Itemset\", \"Support\"], data=[[item, L1[item]] for item in L1])\n",
    "df"
   ]
  },
  {
   "cell_type": "code",
   "execution_count": 17,
   "metadata": {},
   "outputs": [
    {
     "data": {
      "text/html": [
       "<div>\n",
       "<style scoped>\n",
       "    .dataframe tbody tr th:only-of-type {\n",
       "        vertical-align: middle;\n",
       "    }\n",
       "\n",
       "    .dataframe tbody tr th {\n",
       "        vertical-align: top;\n",
       "    }\n",
       "\n",
       "    .dataframe thead th {\n",
       "        text-align: right;\n",
       "    }\n",
       "</style>\n",
       "<table border=\"1\" class=\"dataframe\">\n",
       "  <thead>\n",
       "    <tr style=\"text-align: right;\">\n",
       "      <th></th>\n",
       "      <th>Itemset</th>\n",
       "      <th>Support</th>\n",
       "    </tr>\n",
       "  </thead>\n",
       "  <tbody>\n",
       "    <tr>\n",
       "      <th>0</th>\n",
       "      <td>(Hot Dogs, Buns)</td>\n",
       "      <td>2</td>\n",
       "    </tr>\n",
       "    <tr>\n",
       "      <th>1</th>\n",
       "      <td>(Hot Dogs, Coke)</td>\n",
       "      <td>2</td>\n",
       "    </tr>\n",
       "    <tr>\n",
       "      <th>2</th>\n",
       "      <td>(Hot Dogs, Chips)</td>\n",
       "      <td>2</td>\n",
       "    </tr>\n",
       "    <tr>\n",
       "      <th>3</th>\n",
       "      <td>(Coke, Chips)</td>\n",
       "      <td>3</td>\n",
       "    </tr>\n",
       "  </tbody>\n",
       "</table>\n",
       "</div>"
      ],
      "text/plain": [
       "             Itemset  Support\n",
       "0   (Hot Dogs, Buns)        2\n",
       "1   (Hot Dogs, Coke)        2\n",
       "2  (Hot Dogs, Chips)        2\n",
       "3      (Coke, Chips)        3"
      ]
     },
     "execution_count": 17,
     "metadata": {},
     "output_type": "execute_result"
    }
   ],
   "source": [
    "C2 = {}\n",
    "\n",
    "for itemset in combinations(L1, 2):\n",
    "    C2[itemset] = 0\n",
    "\n",
    "\n",
    "\n",
    "for transaction in transactions:\n",
    "    for itemset in C2:\n",
    "        if set(itemset).issubset(transaction):\n",
    "            C2[itemset] += 1\n",
    "        \n",
    "L2 = {}\n",
    "\n",
    "for itemset in C2:\n",
    "    if C2[itemset] >= support_threshold * len(transactions):\n",
    "        L2[itemset] = C2[itemset]\n",
    "\n",
    "df = pd.DataFrame(columns=[\"Itemset\", \"Support\"], data=[[item, L2[item]] for item in L2])\n",
    "df"
   ]
  },
  {
   "cell_type": "code",
   "execution_count": 22,
   "metadata": {},
   "outputs": [
    {
     "data": {
      "text/html": [
       "<div>\n",
       "<style scoped>\n",
       "    .dataframe tbody tr th:only-of-type {\n",
       "        vertical-align: middle;\n",
       "    }\n",
       "\n",
       "    .dataframe tbody tr th {\n",
       "        vertical-align: top;\n",
       "    }\n",
       "\n",
       "    .dataframe thead th {\n",
       "        text-align: right;\n",
       "    }\n",
       "</style>\n",
       "<table border=\"1\" class=\"dataframe\">\n",
       "  <thead>\n",
       "    <tr style=\"text-align: right;\">\n",
       "      <th></th>\n",
       "      <th>Itemset</th>\n",
       "      <th>Support</th>\n",
       "    </tr>\n",
       "  </thead>\n",
       "  <tbody>\n",
       "    <tr>\n",
       "      <th>0</th>\n",
       "      <td>(Coke, Chips, Hot Dogs)</td>\n",
       "      <td>2</td>\n",
       "    </tr>\n",
       "  </tbody>\n",
       "</table>\n",
       "</div>"
      ],
      "text/plain": [
       "                   Itemset  Support\n",
       "0  (Coke, Chips, Hot Dogs)        2"
      ]
     },
     "execution_count": 22,
     "metadata": {},
     "output_type": "execute_result"
    }
   ],
   "source": [
    "C3 = {}\n",
    "\n",
    "for itemset in combinations(L2, 2):\n",
    "    new_itemset = set(itemset[0]).union(set(itemset[1]))\n",
    "    if len(new_itemset) == 3:\n",
    "        C3[tuple(new_itemset)] = 0\n",
    "\n",
    "for transaction in transactions:\n",
    "    for itemset in C3:\n",
    "        if set(itemset).issubset(transaction):\n",
    "            C3[itemset] += 1\n",
    "\n",
    "L3 = {}\n",
    "\n",
    "for itemset in C3:\n",
    "    if C3[itemset] >= support_threshold * len(transactions):\n",
    "        L3[itemset] = C3[itemset]\n",
    "\n",
    "df = pd.DataFrame(columns=[\"Itemset\", \"Support\"], data=[[item, L3[item]] for item in L3])\n",
    "df"
   ]
  },
  {
   "cell_type": "code",
   "execution_count": 47,
   "metadata": {},
   "outputs": [],
   "source": [
    "# Crete association rules\n",
    "association_rules = []\n",
    "\n",
    "itemsets = { **L2, **L3 }\n",
    "all_itemsets = {\n",
    "    **L1,\n",
    "    **L2,\n",
    "    **L3\n",
    "}\n"
   ]
  },
  {
   "cell_type": "code",
   "execution_count": 48,
   "metadata": {},
   "outputs": [
    {
     "ename": "ModuleNotFoundError",
     "evalue": "No module named 'mlxtend'",
     "output_type": "error",
     "traceback": [
      "\u001b[0;31m---------------------------------------------------------------------------\u001b[0m",
      "\u001b[0;31mModuleNotFoundError\u001b[0m                       Traceback (most recent call last)",
      "\u001b[1;32m/Users/ratchanon/INTRODWDM/Apriori/Apriori.ipynb Cell 9\u001b[0m line \u001b[0;36m1\n\u001b[0;32m----> <a href='vscode-notebook-cell:/Users/ratchanon/INTRODWDM/Apriori/Apriori.ipynb#X11sZmlsZQ%3D%3D?line=0'>1</a>\u001b[0m \u001b[39mfrom\u001b[39;00m \u001b[39mmlxtend\u001b[39;00m\u001b[39m.\u001b[39;00m\u001b[39mfrequent_patterns\u001b[39;00m \u001b[39mimport\u001b[39;00m apriori, association_rules\n",
      "\u001b[0;31mModuleNotFoundError\u001b[0m: No module named 'mlxtend'"
     ]
    }
   ],
   "source": [
    "from mlxtend.frequent_patterns import apriori, association_rules "
   ]
  },
  {
   "cell_type": "code",
   "execution_count": 57,
   "metadata": {},
   "outputs": [
    {
     "data": {
      "text/plain": [
       "{'Chips': 4, 'Hot Dogs': 4, 'Coke': 3, 'Buns': 2, 'Ketchup': 2}"
      ]
     },
     "execution_count": 57,
     "metadata": {},
     "output_type": "execute_result"
    }
   ],
   "source": [
    "# Construct ordered frequent itemsets FPGrow\n",
    "frequent = {}\n",
    "\n",
    "for transaction in transactions:\n",
    "    for item in transaction:\n",
    "        if item in frequent:\n",
    "            frequent[item] += 1\n",
    "        else:\n",
    "            frequent[item] = 1\n",
    "\n",
    "# Sort frequent itemsets if same frequency by alphabetical order\n",
    "frequent = {k: v for k, v in sorted(frequent.items(), key=lambda item: (-item[1], item[0]))}\n",
    "\n",
    "sorted_transactions = []\n",
    "\n",
    "for transaction in transactions:\n",
    "    sorted_transactions.append(sorted(transaction, key=lambda item: (-frequent[item], item)))\n",
    "\n",
    "df = pd.DataFrame(columns=[\"Transaction\", \"Sorted Transaction\"], data=[[transaction, sorted_transactions[i]] for i, transaction in enumerate(transactions)])\n",
    "frequent"
   ]
  }
 ],
 "metadata": {
  "kernelspec": {
   "display_name": "py311",
   "language": "python",
   "name": "python3"
  },
  "language_info": {
   "codemirror_mode": {
    "name": "ipython",
    "version": 3
   },
   "file_extension": ".py",
   "mimetype": "text/x-python",
   "name": "python",
   "nbconvert_exporter": "python",
   "pygments_lexer": "ipython3",
   "version": "3.11.5"
  }
 },
 "nbformat": 4,
 "nbformat_minor": 2
}
